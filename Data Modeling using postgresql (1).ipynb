{
 "cells": [
  {
   "cell_type": "markdown",
   "id": "ac350307-9081-40f4-b6e8-740774a38c9a",
   "metadata": {
    "jp-MarkdownHeadingCollapsed": true,
    "tags": []
   },
   "source": [
    "# Data Modeling Project Using PostgreSQL\n",
    "\n",
    "\n",
    "\n",
    "\n",
    "## Introduction\n",
    "\n",
    "Brief overview of the project and its objectives.\n",
    "\n"
   ]
  },
  {
   "cell_type": "markdown",
   "id": "174c6020-463a-4458-8247-0ddd67ca52e7",
   "metadata": {},
   "source": [
    "# Setup\n",
    "Instructions for setting up PostgreSQL and installing the necessary dependencies."
   ]
  },
  {
   "cell_type": "code",
   "execution_count": 1,
   "id": "d2f77134-0857-4c3b-917d-88644776bba2",
   "metadata": {},
   "outputs": [
    {
     "name": "stdout",
     "output_type": "stream",
     "text": [
      "Collecting psycopg2\n",
      "  Downloading psycopg2-2.9.9-cp310-cp310-win_amd64.whl (1.2 MB)\n",
      "     ---------------------------------------- 1.2/1.2 MB 1.2 MB/s eta 0:00:00\n",
      "Installing collected packages: psycopg2\n",
      "Successfully installed psycopg2-2.9.9\n"
     ]
    }
   ],
   "source": [
    "!pip install psycopg2"
   ]
  },
  {
   "cell_type": "code",
   "execution_count": 1,
   "id": "7f5fe4e3-021f-4348-b208-751aefa1caa0",
   "metadata": {},
   "outputs": [],
   "source": [
    "import psycopg2"
   ]
  },
  {
   "cell_type": "markdown",
   "id": "9c6c401a-349a-4178-90b2-3525a9e2ad0b",
   "metadata": {},
   "source": [
    "# Database Connection\n",
    "Establishing connection to the PostgreSQL database."
   ]
  },
  {
   "cell_type": "code",
   "execution_count": 2,
   "id": "4a2560e0-c22f-4e6c-8efe-d77562e07c2f",
   "metadata": {},
   "outputs": [],
   "source": [
    "# creating connection to data base \n",
    "\n",
    "try:\n",
    "    conn = psycopg2.connect(\"host=localhost dbname= postgres user=postgres password=1234\")\n",
    "except psycopg2.Error as e:\n",
    "    print(\"Error: Could not make connection to postgres database\")\n",
    "    print(e)\n",
    "    "
   ]
  },
  {
   "cell_type": "code",
   "execution_count": 3,
   "id": "41b3b1d6-c1f0-4bd8-88cd-83042052b531",
   "metadata": {},
   "outputs": [],
   "source": [
    "#using connection to get cursor that can help exceute quesries\n",
    "\n",
    "try:\n",
    "    cur = conn.cursor()\n",
    "except psycopg2.Error  as e:\n",
    "    \n",
    "    print(\"Error: could not get cursor to the database\")\n",
    "    print(e)\n",
    "          "
   ]
  },
  {
   "cell_type": "code",
   "execution_count": 4,
   "id": "67557f6f-6726-4edd-9401-f5c4513315cb",
   "metadata": {},
   "outputs": [],
   "source": [
    "# set the automatic commit\n",
    "\n",
    "conn.set_session(autocommit=True)"
   ]
  },
  {
   "cell_type": "markdown",
   "id": "ef70cb50-4fc5-49b3-a356-13b4166f1ffb",
   "metadata": {},
   "source": [
    "# Database Creation\n",
    "Creating a new database for the project."
   ]
  },
  {
   "cell_type": "code",
   "execution_count": 5,
   "id": "887c4280-5b5f-4654-801b-b229f964a361",
   "metadata": {},
   "outputs": [
    {
     "name": "stdout",
     "output_type": "stream",
     "text": [
      "database \"myfirstdb\" already exists\n",
      "\n"
     ]
    }
   ],
   "source": [
    "#create database\n",
    "\n",
    "try:\n",
    "    cur.execute(\"create database myfirstdb\")\n",
    "except psycopg2.Error  as e:\n",
    "    \n",
    "    \n",
    "    print(e)"
   ]
  },
  {
   "cell_type": "code",
   "execution_count": 6,
   "id": "076141eb-6c99-4b48-a38e-e4acf21878ca",
   "metadata": {},
   "outputs": [],
   "source": [
    "try:\n",
    "    conn.close()\n",
    "except psycopg2.Error as e:\n",
    "    print(e)\n",
    "    \n",
    "try:\n",
    "    conn = psycopg2.connect(\"host=localhost dbname=myfirstdb user=postgres password=1234\")\n",
    "except psycopg2.Error as e:\n",
    "    print(\"Error: Could not make connection to postgres database\")\n",
    "    print(e)    \n",
    "    \n",
    "try:\n",
    "    cur = conn.cursor()\n",
    "except psycopg2.Error  as e:\n",
    "    \n",
    "    print(\"Error: could not get cursor to the database\")\n",
    "    print(e)    \n",
    "    \n",
    "conn.set_session(autocommit=True)   "
   ]
  },
  {
   "cell_type": "markdown",
   "id": "88e8dfc3-5f82-42f4-9d9f-63425d0c92fb",
   "metadata": {},
   "source": [
    "# Table Creation\n",
    "Defining tables and their schemas."
   ]
  },
  {
   "cell_type": "code",
   "execution_count": 8,
   "id": "fc4300b2-67de-4c2e-89d0-d89af332d058",
   "metadata": {},
   "outputs": [],
   "source": [
    "#create table for students \n",
    "\n",
    "try:\n",
    "    cur.execute(\"CREATE TABLE IF NOT EXISTS students (student_id int , name varchar , age int ,\\\n",
    "    gender varchar , subject varchar , marks int);\")\n",
    "except psycopg2.Error as e:\n",
    "    print(\"Error:issue creating table\")\n",
    "    print(e)\n",
    "    \n",
    " "
   ]
  },
  {
   "cell_type": "markdown",
   "id": "13a4a50e-1f21-4e40-b36e-e6ba211447c2",
   "metadata": {},
   "source": [
    "# Data Insertion\n",
    "Inserting sample data into the tables."
   ]
  },
  {
   "cell_type": "code",
   "execution_count": 9,
   "id": "b4c56268-e971-4828-ae10-fb7aed0429a9",
   "metadata": {},
   "outputs": [],
   "source": [
    "# insert data into table\n",
    "\n",
    "try:\n",
    "    cur.execute(\"INSERT INTO students (student_id, name, age, gender, subject, marks)  \\\n",
    "                  VALUES (%s,%s,%s,%s,%s,%s)\",\\\n",
    "                (1, \"Raj\",23,\"Male\",\"Python\",85))\n",
    "except psycopg2.Error as e:\n",
    "    print(\"Error:inserting rows into table\")\n",
    "    print(e)\n",
    "    \n",
    "try:\n",
    "    cur.execute(\"INSERT INTO students (student_id, name, age, gender, subject, marks)  \\\n",
    "                  VALUES (%s,%s,%s,%s,%s,%s)\",\\\n",
    "                (2, \"Rajeshwari\",21,\"Female\",\"Python\",84))\n",
    "except psycopg2.Error as e:\n",
    "    print(\"Error:inserting rows into table\")\n",
    "    print(e)    \n",
    "    "
   ]
  },
  {
   "cell_type": "markdown",
   "id": "21133d87-1255-4aba-a80e-61986212bcc8",
   "metadata": {},
   "source": [
    "# Data Retrieval\n",
    "Querying data from the tables."
   ]
  },
  {
   "cell_type": "code",
   "execution_count": 11,
   "id": "2824041b-21a5-4b58-8584-7bfb4b6f3a59",
   "metadata": {},
   "outputs": [
    {
     "name": "stdout",
     "output_type": "stream",
     "text": [
      "(1, 'Raj', 23, 'Male', 'Python', 85)\n",
      "(2, 'Rajeshwari', 21, 'Female', 'Python', 84)\n"
     ]
    }
   ],
   "source": [
    "try:\n",
    "    cur.execute(\"select * from students;\")\n",
    "except psycopg2.Error as e:\n",
    "    print(\"Error:select * \")\n",
    "    print(e)\n",
    "    \n",
    "row = cur.fetchone()\n",
    "while row:\n",
    "    print(row)\n",
    "    row = cur.fetchone()"
   ]
  },
  {
   "cell_type": "code",
   "execution_count": 12,
   "id": "35b3e1c2-42dc-4f05-a4e8-f1c1bd7ae4e0",
   "metadata": {},
   "outputs": [],
   "source": [
    "cur.close()\n",
    "conn.close()"
   ]
  },
  {
   "cell_type": "markdown",
   "id": "92a2436d-3895-4e6b-a120-76f87f7aa61b",
   "metadata": {},
   "source": [
    "# Conclusion\n",
    "Summary of the project and potential future enhancements."
   ]
  },
  {
   "cell_type": "markdown",
   "id": "0811972a-1012-4c9e-8af3-3cbb1554179e",
   "metadata": {},
   "source": [
    "Additional Components to Consider:\n",
    "\n",
    "Data Validation: Implement checks to ensure data integrity.\n",
    "\n",
    "Indexing: Add indexes to columns for faster retrieval.\n",
    "\n",
    "Normalization: Ensure the database is properly normalized to avoid redundancy.\n",
    "\n",
    "Documentation: Include detailed documentation for future reference.\n",
    "\n",
    "Error Handling: Enhance error handling for robustness.\n",
    "\n",
    "Security: Implement security measures such as user authentication and authorization.\n",
    "\n",
    "Performance Tuning: Optimize database performance for scalability.\n",
    "\n",
    "Backup and Recovery: Establish procedures for backup and recovery of the database."
   ]
  }
 ],
 "metadata": {
  "kernelspec": {
   "display_name": "Python 3 (ipykernel)",
   "language": "python",
   "name": "python3"
  },
  "language_info": {
   "codemirror_mode": {
    "name": "ipython",
    "version": 3
   },
   "file_extension": ".py",
   "mimetype": "text/x-python",
   "name": "python",
   "nbconvert_exporter": "python",
   "pygments_lexer": "ipython3",
   "version": "3.10.9"
  }
 },
 "nbformat": 4,
 "nbformat_minor": 5
}
